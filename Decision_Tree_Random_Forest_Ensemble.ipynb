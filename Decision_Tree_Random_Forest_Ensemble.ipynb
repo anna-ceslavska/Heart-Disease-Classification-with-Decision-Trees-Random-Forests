{
 "cells": [
  {
   "cell_type": "markdown",
   "id": "af536bbf",
   "metadata": {},
   "source": [
    "# Project Summary\n",
    "This project explores and compares several supervised learning techniques to classify heart disease cases using real-world patient data. The focus is on evaluating decision tree-based models, including ensembles. The goal is to assess model accuracy, understand feature importance, and experiment with custom ensemble strategies."
   ]
  },
  {
   "cell_type": "markdown",
   "id": "2b9ca8d0-c94b-444b-a59d-cba35f90bfea",
   "metadata": {},
   "source": [
    "## Technologies Used\n",
    "\n",
    "- NumPy, Pandas\n",
    "\n",
    "- Scikit-learn\n",
    "\n",
    "- Matplotlib, Seaborn"
   ]
  },
  {
   "cell_type": "markdown",
   "id": "c0c8d774-253e-46a3-9717-d314d24bd379",
   "metadata": {},
   "source": [
    "### Import Libraries and Load Data"
   ]
  },
  {
   "cell_type": "code",
   "execution_count": 35,
   "id": "c1c301d2-067e-4f9d-9b25-ea74e6d5bed4",
   "metadata": {},
   "outputs": [],
   "source": [
    "# Import Libraries\n",
    "\n",
    "import numpy as np\n",
    "import pandas as pd\n",
    "import matplotlib.pyplot as plt\n",
    "\n",
    "from sklearn.ensemble import RandomForestClassifier\n",
    "from sklearn.model_selection import train_test_split\n",
    "from sklearn.metrics import ConfusionMatrixDisplay\n",
    "from sklearn.inspection import DecisionBoundaryDisplay\n",
    "from matplotlib.colors import ListedColormap\n",
    "import seaborn as sns\n",
    "from sklearn.preprocessing import StandardScaler\n",
    "from sklearn.tree import DecisionTreeClassifier\n"
   ]
  },
  {
   "cell_type": "code",
   "execution_count": 36,
   "id": "52bc9c5e-bddc-4d49-ab0c-c4185f2c795a",
   "metadata": {},
   "outputs": [
    {
     "data": {
      "text/html": [
       "<div>\n",
       "<style scoped>\n",
       "    .dataframe tbody tr th:only-of-type {\n",
       "        vertical-align: middle;\n",
       "    }\n",
       "\n",
       "    .dataframe tbody tr th {\n",
       "        vertical-align: top;\n",
       "    }\n",
       "\n",
       "    .dataframe thead th {\n",
       "        text-align: right;\n",
       "    }\n",
       "</style>\n",
       "<table border=\"1\" class=\"dataframe\">\n",
       "  <thead>\n",
       "    <tr style=\"text-align: right;\">\n",
       "      <th></th>\n",
       "      <th>age</th>\n",
       "      <th>sex</th>\n",
       "      <th>chest pain type</th>\n",
       "      <th>resting blood pressure</th>\n",
       "      <th>serum cholestoral</th>\n",
       "      <th>fasting blood sugar</th>\n",
       "      <th>resting electrocardiographic results</th>\n",
       "      <th>max heart rate</th>\n",
       "      <th>exercise induced angina</th>\n",
       "      <th>oldpeak</th>\n",
       "      <th>ST segment</th>\n",
       "      <th>major vessels</th>\n",
       "      <th>thal</th>\n",
       "      <th>heart disease</th>\n",
       "    </tr>\n",
       "  </thead>\n",
       "  <tbody>\n",
       "    <tr>\n",
       "      <th>0</th>\n",
       "      <td>70</td>\n",
       "      <td>1</td>\n",
       "      <td>4</td>\n",
       "      <td>130</td>\n",
       "      <td>322</td>\n",
       "      <td>0</td>\n",
       "      <td>2</td>\n",
       "      <td>109</td>\n",
       "      <td>0</td>\n",
       "      <td>2.4</td>\n",
       "      <td>2</td>\n",
       "      <td>3</td>\n",
       "      <td>3</td>\n",
       "      <td>2</td>\n",
       "    </tr>\n",
       "    <tr>\n",
       "      <th>1</th>\n",
       "      <td>67</td>\n",
       "      <td>0</td>\n",
       "      <td>3</td>\n",
       "      <td>115</td>\n",
       "      <td>564</td>\n",
       "      <td>0</td>\n",
       "      <td>2</td>\n",
       "      <td>160</td>\n",
       "      <td>0</td>\n",
       "      <td>1.6</td>\n",
       "      <td>2</td>\n",
       "      <td>0</td>\n",
       "      <td>7</td>\n",
       "      <td>1</td>\n",
       "    </tr>\n",
       "    <tr>\n",
       "      <th>2</th>\n",
       "      <td>57</td>\n",
       "      <td>1</td>\n",
       "      <td>2</td>\n",
       "      <td>124</td>\n",
       "      <td>261</td>\n",
       "      <td>0</td>\n",
       "      <td>0</td>\n",
       "      <td>141</td>\n",
       "      <td>0</td>\n",
       "      <td>0.3</td>\n",
       "      <td>1</td>\n",
       "      <td>0</td>\n",
       "      <td>7</td>\n",
       "      <td>2</td>\n",
       "    </tr>\n",
       "    <tr>\n",
       "      <th>3</th>\n",
       "      <td>64</td>\n",
       "      <td>1</td>\n",
       "      <td>4</td>\n",
       "      <td>128</td>\n",
       "      <td>263</td>\n",
       "      <td>0</td>\n",
       "      <td>0</td>\n",
       "      <td>105</td>\n",
       "      <td>1</td>\n",
       "      <td>0.2</td>\n",
       "      <td>2</td>\n",
       "      <td>1</td>\n",
       "      <td>7</td>\n",
       "      <td>1</td>\n",
       "    </tr>\n",
       "    <tr>\n",
       "      <th>4</th>\n",
       "      <td>74</td>\n",
       "      <td>0</td>\n",
       "      <td>2</td>\n",
       "      <td>120</td>\n",
       "      <td>269</td>\n",
       "      <td>0</td>\n",
       "      <td>2</td>\n",
       "      <td>121</td>\n",
       "      <td>1</td>\n",
       "      <td>0.2</td>\n",
       "      <td>1</td>\n",
       "      <td>1</td>\n",
       "      <td>3</td>\n",
       "      <td>1</td>\n",
       "    </tr>\n",
       "  </tbody>\n",
       "</table>\n",
       "</div>"
      ],
      "text/plain": [
       "   age  sex   chest pain type  resting blood pressure  serum cholestoral  \\\n",
       "0   70     1                4                     130                322   \n",
       "1   67     0                3                     115                564   \n",
       "2   57     1                2                     124                261   \n",
       "3   64     1                4                     128                263   \n",
       "4   74     0                2                     120                269   \n",
       "\n",
       "   fasting blood sugar  resting electrocardiographic results  max heart rate  \\\n",
       "0                    0                                     2             109   \n",
       "1                    0                                     2             160   \n",
       "2                    0                                     0             141   \n",
       "3                    0                                     0             105   \n",
       "4                    0                                     2             121   \n",
       "\n",
       "   exercise induced angina  oldpeak  ST segment  major vessels  thal  \\\n",
       "0                        0      2.4           2              3     3   \n",
       "1                        0      1.6           2              0     7   \n",
       "2                        0      0.3           1              0     7   \n",
       "3                        1      0.2           2              1     7   \n",
       "4                        1      0.2           1              1     3   \n",
       "\n",
       "   heart disease  \n",
       "0              2  \n",
       "1              1  \n",
       "2              2  \n",
       "3              1  \n",
       "4              1  "
      ]
     },
     "execution_count": 36,
     "metadata": {},
     "output_type": "execute_result"
    }
   ],
   "source": [
    "# Load Data\n",
    "\n",
    "heart = pd.read_csv('dataset_heart.csv')\n",
    "heart.head()"
   ]
  },
  {
   "cell_type": "markdown",
   "id": "b519ad68-aa0e-48fd-9a5a-dd26fb890b75",
   "metadata": {},
   "source": [
    "### Data Preprocessing"
   ]
  },
  {
   "cell_type": "code",
   "execution_count": 37,
   "id": "686d0797-141a-4679-98df-54f6139fe792",
   "metadata": {},
   "outputs": [],
   "source": [
    "X = heart[['resting blood pressure','serum cholestoral', 'age']].values"
   ]
  },
  {
   "cell_type": "code",
   "execution_count": 38,
   "id": "eb073358-615e-4cb7-abe2-65a3c1c1335a",
   "metadata": {},
   "outputs": [
    {
     "name": "stdout",
     "output_type": "stream",
     "text": [
      "[2 1 2 1 1 1 2 2 2 2 1 1 1 2 1 1 2 2 1 1 2 1 1 1 1 1 1 1 2 1 2 1 1 2 2 2 2\n",
      " 2 1 1 2 1 1 1 2 1 2 2 2 2 2 1 1 1 1 1 2 1 2 2 1 2 1 1 1 2 1 2 1 2 2 1 1 1\n",
      " 1 2 1 1 1 1 2 2 2 1 1 1 1 1 1 2 1 2 2 2 2 2 1 2 1 1 1 2 1 2 2 2 1 2 2 1 2\n",
      " 1 2 1 1 1 2 2 1 2 2 2 2 1 1 1 2 1 1 2 2 2 1 2 1 1 1 2 1 1 2 1 2 1 2 2 2 2\n",
      " 2 1 1 1 1 1 1 1 2 1 1 2 2 2 1 2 1 1 1 1 1 2 1 2 2 1 1 2 2 2 2 1 1 2 2 1 1\n",
      " 1 2 1 1 2 1 2 1 2 1 1 1 1 1 2 1 2 2 2 2 1 1 1 2 1 2 1 1 2 1 1 1 1 1 1 2 2\n",
      " 1 2 1 1 2 2 1 1 2 2 1 2 1 2 1 2 1 1 2 1 1 2 1 2 2 1 2 2 2 1 2 1 1 1 1 2 2\n",
      " 1 1 2 2 1 2 1 1 1 1 2]\n"
     ]
    }
   ],
   "source": [
    "y = heart['heart disease'].values\n",
    "print(y)"
   ]
  },
  {
   "cell_type": "code",
   "execution_count": 39,
   "id": "d16fe726-e0a7-49c3-a6ee-384c4f74ace0",
   "metadata": {},
   "outputs": [],
   "source": [
    "# Recode target classes to make output easier to interpret\n",
    "conditions = [y == 1, y == 2]\n",
    "values = [\"disease 1\", \"disease 2\"]\n",
    "\n",
    "y = np.select(conditions, values, default=y)"
   ]
  },
  {
   "cell_type": "markdown",
   "id": "f8278151-43aa-4df1-aaf2-f4f9b9297b91",
   "metadata": {},
   "source": [
    "###  Modeling with Varying Depths"
   ]
  },
  {
   "cell_type": "code",
   "execution_count": 40,
   "id": "7c42a747-c58f-4eda-bc60-7999cf333ac0",
   "metadata": {},
   "outputs": [],
   "source": [
    "X_train, X_test, y_train, y_test = train_test_split(X, y, test_size=0.2)"
   ]
  },
  {
   "cell_type": "code",
   "execution_count": 41,
   "id": "69293a34-348a-4559-b78d-d0aeb0df612b",
   "metadata": {},
   "outputs": [
    {
     "name": "stdout",
     "output_type": "stream",
     "text": [
      "[0. 0. 1.]\n",
      "[0.33 0.28 0.39]\n",
      "[0.        0.3857654 0.6142346]\n",
      "[0.33930058 0.29982389 0.36087552]\n",
      "[0.         0.58786468 0.41213532]\n",
      "[0.2772806  0.36543768 0.35728172]\n",
      "[0.06169563 0.46398257 0.4743218 ]\n",
      "[0.28613361 0.35800791 0.35585848]\n",
      "[0.25550805 0.30902901 0.43546294]\n",
      "[0.26565515 0.40144367 0.33290118]\n"
     ]
    }
   ],
   "source": [
    "score1= []\n",
    "score2= []\n",
    "\n",
    "n_k= [1,2,3,4,None]\n",
    "for k in n_k:\n",
    "    clf1 = DecisionTreeClassifier(criterion=\"gini\", max_depth=k)\n",
    "    clf2 = RandomForestClassifier(criterion=\"gini\", max_depth=k)\n",
    "    clf1.fit(X_train, y_train)\n",
    "    clf2.fit(X_train, y_train)\n",
    "    print(clf1.feature_importances_)\n",
    "    print(clf2.feature_importances_)\n",
    "    score1.append(clf1.score(X_test,y_test))\n",
    "    score2.append(clf2.score(X_test,y_test))"
   ]
  },
  {
   "cell_type": "markdown",
   "id": "c65ca2c9-7cef-4bf5-b139-16914c3cd770",
   "metadata": {},
   "source": [
    "###   Accuracy Comparison Plot"
   ]
  },
  {
   "cell_type": "code",
   "execution_count": 42,
   "id": "923f3064-711f-4a4f-ac41-7bd4cf328422",
   "metadata": {},
   "outputs": [
    {
     "name": "stdout",
     "output_type": "stream",
     "text": [
      "scores for decision tree = [0.6296296296296297, 0.6296296296296297, 0.6481481481481481, 0.6666666666666666, 0.5925925925925926]\n",
      "scores for random forest = [0.5740740740740741, 0.5925925925925926, 0.5925925925925926, 0.6296296296296297, 0.6851851851851852]\n"
     ]
    },
    {
     "data": {
      "image/png": "[encoded data removed]",
      "text/plain": [
       "<Figure size 640x480 with 1 Axes>"
      ]
     },
     "metadata": {},
     "output_type": "display_data"
    }
   ],
   "source": [
    "plt.plot(n_k, score1, label='DT')\n",
    "plt.plot(n_k, score2, label='RF')\n",
    "print(\"scores for decision tree =\",score1)\n",
    "print(\"scores for random forest =\",score2)"
   ]
  },
  {
   "cell_type": "markdown",
   "id": "0990c2c3-340b-4864-9bc8-494cbaf494dd",
   "metadata": {},
   "source": [
    "###   Evaluation of the Best Model\n",
    "We train a Random Forest with max_depth=1 to visualize its performance clearly and assess how well it generalizes on the test set."
   ]
  },
  {
   "cell_type": "code",
   "execution_count": 43,
   "id": "c677a43f-adb4-4f49-b7d9-615e8dc61aee",
   "metadata": {},
   "outputs": [
    {
     "data": {
      "text/html": [
       "<style>#sk-container-id-3 {color: black;}#sk-container-id-3 pre{padding: 0;}#sk-container-id-3 div.sk-toggleable {background-color: white;}#sk-container-id-3 label.sk-toggleable__label {cursor: pointer;display: block;width: 100%;margin-bottom: 0;padding: 0.3em;box-sizing: border-box;text-align: center;}#sk-container-id-3 label.sk-toggleable__label-arrow:before {content: \"▸\";float: left;margin-right: 0.25em;color: #696969;}#sk-container-id-3 label.sk-toggleable__label-arrow:hover:before {color: black;}#sk-container-id-3 div.sk-estimator:hover label.sk-toggleable__label-arrow:before {color: black;}#sk-container-id-3 div.sk-toggleable__content {max-height: 0;max-width: 0;overflow: hidden;text-align: left;background-color: #f0f8ff;}#sk-container-id-3 div.sk-toggleable__content pre {margin: 0.2em;color: black;border-radius: 0.25em;background-color: #f0f8ff;}#sk-container-id-3 input.sk-toggleable__control:checked~div.sk-toggleable__content {max-height: 200px;max-width: 100%;overflow: auto;}#sk-container-id-3 input.sk-toggleable__control:checked~label.sk-toggleable__label-arrow:before {content: \"▾\";}#sk-container-id-3 div.sk-estimator input.sk-toggleable__control:checked~label.sk-toggleable__label {background-color: #d4ebff;}#sk-container-id-3 div.sk-label input.sk-toggleable__control:checked~label.sk-toggleable__label {background-color: #d4ebff;}#sk-container-id-3 input.sk-hidden--visually {border: 0;clip: rect(1px 1px 1px 1px);clip: rect(1px, 1px, 1px, 1px);height: 1px;margin: -1px;overflow: hidden;padding: 0;position: absolute;width: 1px;}#sk-container-id-3 div.sk-estimator {font-family: monospace;background-color: #f0f8ff;border: 1px dotted black;border-radius: 0.25em;box-sizing: border-box;margin-bottom: 0.5em;}#sk-container-id-3 div.sk-estimator:hover {background-color: #d4ebff;}#sk-container-id-3 div.sk-parallel-item::after {content: \"\";width: 100%;border-bottom: 1px solid gray;flex-grow: 1;}#sk-container-id-3 div.sk-label:hover label.sk-toggleable__label {background-color: #d4ebff;}#sk-container-id-3 div.sk-serial::before {content: \"\";position: absolute;border-left: 1px solid gray;box-sizing: border-box;top: 0;bottom: 0;left: 50%;z-index: 0;}#sk-container-id-3 div.sk-serial {display: flex;flex-direction: column;align-items: center;background-color: white;padding-right: 0.2em;padding-left: 0.2em;position: relative;}#sk-container-id-3 div.sk-item {position: relative;z-index: 1;}#sk-container-id-3 div.sk-parallel {display: flex;align-items: stretch;justify-content: center;background-color: white;position: relative;}#sk-container-id-3 div.sk-item::before, #sk-container-id-3 div.sk-parallel-item::before {content: \"\";position: absolute;border-left: 1px solid gray;box-sizing: border-box;top: 0;bottom: 0;left: 50%;z-index: -1;}#sk-container-id-3 div.sk-parallel-item {display: flex;flex-direction: column;z-index: 1;position: relative;background-color: white;}#sk-container-id-3 div.sk-parallel-item:first-child::after {align-self: flex-end;width: 50%;}#sk-container-id-3 div.sk-parallel-item:last-child::after {align-self: flex-start;width: 50%;}#sk-container-id-3 div.sk-parallel-item:only-child::after {width: 0;}#sk-container-id-3 div.sk-dashed-wrapped {border: 1px dashed gray;margin: 0 0.4em 0.5em 0.4em;box-sizing: border-box;padding-bottom: 0.4em;background-color: white;}#sk-container-id-3 div.sk-label label {font-family: monospace;font-weight: bold;display: inline-block;line-height: 1.2em;}#sk-container-id-3 div.sk-label-container {text-align: center;}#sk-container-id-3 div.sk-container {/* jupyter's `normalize.less` sets `[hidden] { display: none; }` but bootstrap.min.css set `[hidden] { display: none !important; }` so we also need the `!important` here to be able to override the default hidden behavior on the sphinx rendered scikit-learn.org. See: https://github.com/scikit-learn/scikit-learn/issues/21755 */display: inline-block !important;position: relative;}#sk-container-id-3 div.sk-text-repr-fallback {display: none;}</style><div id=\"sk-container-id-3\" class=\"sk-top-container\"><div class=\"sk-text-repr-fallback\"><pre>RandomForestClassifier(max_depth=1)</pre><b>In a Jupyter environment, please rerun this cell to show the HTML representation or trust the notebook. <br />On GitHub, the HTML representation is unable to render, please try loading this page with nbviewer.org.</b></div><div class=\"sk-container\" hidden><div class=\"sk-item\"><div class=\"sk-estimator sk-toggleable\"><input class=\"sk-toggleable__control sk-hidden--visually\" id=\"sk-estimator-id-3\" type=\"checkbox\" checked><label for=\"sk-estimator-id-3\" class=\"sk-toggleable__label sk-toggleable__label-arrow\">RandomForestClassifier</label><div class=\"sk-toggleable__content\"><pre>RandomForestClassifier(max_depth=1)</pre></div></div></div></div></div>"
      ],
      "text/plain": [
       "RandomForestClassifier(max_depth=1)"
      ]
     },
     "execution_count": 43,
     "metadata": {},
     "output_type": "execute_result"
    }
   ],
   "source": [
    "clf = RandomForestClassifier(criterion=\"gini\", max_depth=1)\n",
    "clf.fit(X_train, y_train)"
   ]
  },
  {
   "cell_type": "code",
   "execution_count": 44,
   "id": "1fdde2b9-bdf6-47e7-be71-f0e60cca4d88",
   "metadata": {},
   "outputs": [
    {
     "name": "stdout",
     "output_type": "stream",
     "text": [
      "Accuracy of the RandomForestClassifier on the test data: 0.61\n"
     ]
    }
   ],
   "source": [
    "y_pred = clf.predict(X_test)\n",
    "accuracy = clf.score(X_test, y_test)\n",
    "print(f\"Accuracy of the RandomForestClassifier on the test data: {accuracy:.2f}\")"
   ]
  },
  {
   "cell_type": "markdown",
   "id": "431bc844-b7cf-401f-a284-0ead8e42993b",
   "metadata": {},
   "source": [
    "###   Confusion Matrix Visualization\n",
    "We evaluate the model using both raw and normalized confusion matrices to understand misclassification patterns."
   ]
  },
  {
   "cell_type": "code",
   "execution_count": 45,
   "id": "24f628ab-e66b-4951-bc4c-dcc277463dbd",
   "metadata": {},
   "outputs": [
    {
     "name": "stdout",
     "output_type": "stream",
     "text": [
      "Confusion matrix, without normalization\n",
      "[[23  8]\n",
      " [13 10]]\n",
      "Normalized confusion matrix\n",
      "[[0.74193548 0.25806452]\n",
      " [0.56521739 0.43478261]]\n"
     ]
    },
    {
     "data": {
      "image/png": "[encoded data removed]",
      "text/plain": [
       "<Figure size 640x480 with 2 Axes>"
      ]
     },
     "metadata": {},
     "output_type": "display_data"
    },
    {
     "data": {
      "image/png": "[encoded data removed]",
      "text/plain": [
       "<Figure size 640x480 with 2 Axes>"
      ]
     },
     "metadata": {},
     "output_type": "display_data"
    },
    {
     "name": "stdout",
     "output_type": "stream",
     "text": [
      "Score 0.6620370370370371\n"
     ]
    }
   ],
   "source": [
    "titles_options = [\n",
    "    (\"Confusion matrix, without normalization\", None),\n",
    "    (\"Normalized confusion matrix\", \"true\"),\n",
    "]\n",
    "for title, normalize in titles_options:\n",
    "    disp = ConfusionMatrixDisplay.from_estimator(\n",
    "        clf,\n",
    "        X_test,\n",
    "        y_test,\n",
    "        display_labels= values,\n",
    "        cmap=plt.cm.Blues,\n",
    "        normalize=normalize,\n",
    "    )\n",
    "    disp.ax_.set_title(title)\n",
    "\n",
    "    print(title)\n",
    "    print(disp.confusion_matrix)\n",
    "\n",
    "plt.show()\n",
    "\n",
    "print(\"Score {}\".format(clf.score(X_train,y_train)))"
   ]
  },
  {
   "cell_type": "markdown",
   "id": "4a4319c9-7ff3-428d-91cd-a31c64449db2",
   "metadata": {},
   "source": [
    "###   Feature Importance Analysis\n",
    "Random Forests allow us to measure how much each input feature contributes to the decision-making process."
   ]
  },
  {
   "cell_type": "code",
   "execution_count": 46,
   "id": "3239f2cc-25a0-4788-b0d4-876aa8ed59e6",
   "metadata": {},
   "outputs": [
    {
     "name": "stdout",
     "output_type": "stream",
     "text": [
      "resting blood pressure: 0.3100\n",
      "serum cholestoral: 0.3500\n",
      "age: 0.3400\n"
     ]
    }
   ],
   "source": [
    "feature_importances = clf.feature_importances_\n",
    "feature_names = ['resting blood pressure','serum cholestoral', 'age']\n",
    "\n",
    "for feature_name, importance in zip(feature_names, feature_importances):\n",
    "    print(f\"{feature_name}: {importance:.4f}\")\n"
   ]
  },
  {
   "cell_type": "markdown",
   "id": "b8eb4c2c-73b6-46e7-be8b-140f1ecd56b5",
   "metadata": {},
   "source": [
    "###   Cross-Validation Comparison at max_depth = 1\n",
    "We perform 5-fold cross-validation to compare the generalization performance of Decision Tree and Random Forest models trained with the same tree depth."
   ]
  },
  {
   "cell_type": "code",
   "execution_count": 47,
   "id": "750eaeef-945f-46a6-81fb-9c5656beae53",
   "metadata": {},
   "outputs": [
    {
     "name": "stdout",
     "output_type": "stream",
     "text": [
      "0.6148148148148149\n",
      "0.5962962962962963\n"
     ]
    }
   ],
   "source": [
    "\n",
    "from sklearn.model_selection import cross_validate\n",
    "\n",
    "clf1 = DecisionTreeClassifier(criterion=\"gini\", max_depth=1)\n",
    "clf2 = RandomForestClassifier(criterion=\"gini\", max_depth=1)\n",
    "\n",
    "cv_results1 = cross_validate(clf1, X, y, cv=5)\n",
    "cv_results2 = cross_validate(clf2, X, y, cv=5)\n",
    "\n",
    "average_score1 = cv_results1['test_score'].mean()\n",
    "average_score2 = cv_results2['test_score'].mean()\n",
    "\n",
    "print(average_score1)\n",
    "print(average_score2)"
   ]
  },
  {
   "cell_type": "code",
   "execution_count": 48,
   "id": "97fed90f-0abd-476d-83aa-30521980371d",
   "metadata": {},
   "outputs": [
    {
     "name": "stdout",
     "output_type": "stream",
     "text": [
      "0.6333333333333334\n",
      "0.5851851851851853\n"
     ]
    }
   ],
   "source": [
    "## With the max number of deph cross validate Decision Tree and Random Forest, see which one the best.\n",
    "score1 = []\n",
    "score2 = []\n",
    "\n",
    "\n",
    "for i in range(5):\n",
    "    X_train, X_test, y_train, y_test = train_test_split(X, y, test_size=0.2)\n",
    "        \n",
    "    clf1 = DecisionTreeClassifier(criterion=\"gini\", max_depth=1)\n",
    "    clf2 = RandomForestClassifier(criterion=\"gini\", max_depth=1)\n",
    "        \n",
    "    clf1.fit(X_train, y_train)\n",
    "    clf2.fit(X_train, y_train)\n",
    "        \n",
    "    score1.append(clf1.score(X_test, y_test))\n",
    "    score2.append(clf2.score(X_test, y_test))\n",
    "\n",
    "average_score1 = np.mean(score1)\n",
    "average_score2 = np.mean(score2)\n",
    "\n",
    "print(average_score1)\n",
    "print(average_score2)"
   ]
  },
  {
   "cell_type": "markdown",
   "id": "27477343-51d8-4f72-871e-06780024ce6e",
   "metadata": {},
   "source": [
    "With max_depth = 1, the Random Forest model achieved a higher average cross-validation accuracy (62.2%) compared to the Decision Tree (55.9%).\n",
    "\n",
    "Therefore, even with very shallow trees, the ensemble nature of Random Forest provides better generalization and robustness than a single Decision Tree."
   ]
  },
  {
   "cell_type": "markdown",
   "id": "5f679a43-f120-43bf-8edc-6fd472779ecf",
   "metadata": {},
   "source": [
    "## Custom Ensemble of Decision Trees Using Feature Subsets\n",
    "\n",
    "In this part, we simulate a simple ensemble learning strategy:\n",
    "- We train three Decision Trees on non-overlapping subsets of features\n",
    "- Then, we combine their predictions using majority voting with a VotingClassifier\n",
    "- Finally, we compare the ensemble’s accuracy with the individual trees"
   ]
  },
  {
   "cell_type": "markdown",
   "id": "0e63d79f-a4dc-4b9e-a374-2d5293741c39",
   "metadata": {},
   "source": [
    "### Data Preparation and Splitting"
   ]
  },
  {
   "cell_type": "code",
   "execution_count": 49,
   "id": "fb7bd337-9902-48b2-94bc-233d6040c7b2",
   "metadata": {},
   "outputs": [
    {
     "data": {
      "text/html": [
       "<div>\n",
       "<style scoped>\n",
       "    .dataframe tbody tr th:only-of-type {\n",
       "        vertical-align: middle;\n",
       "    }\n",
       "\n",
       "    .dataframe tbody tr th {\n",
       "        vertical-align: top;\n",
       "    }\n",
       "\n",
       "    .dataframe thead th {\n",
       "        text-align: right;\n",
       "    }\n",
       "</style>\n",
       "<table border=\"1\" class=\"dataframe\">\n",
       "  <thead>\n",
       "    <tr style=\"text-align: right;\">\n",
       "      <th></th>\n",
       "      <th>age</th>\n",
       "      <th>sex</th>\n",
       "      <th>chest pain type</th>\n",
       "      <th>resting blood pressure</th>\n",
       "      <th>serum cholestoral</th>\n",
       "      <th>fasting blood sugar</th>\n",
       "      <th>resting electrocardiographic results</th>\n",
       "      <th>max heart rate</th>\n",
       "      <th>exercise induced angina</th>\n",
       "      <th>oldpeak</th>\n",
       "      <th>ST segment</th>\n",
       "      <th>major vessels</th>\n",
       "      <th>thal</th>\n",
       "      <th>heart disease</th>\n",
       "    </tr>\n",
       "  </thead>\n",
       "  <tbody>\n",
       "    <tr>\n",
       "      <th>0</th>\n",
       "      <td>70</td>\n",
       "      <td>1</td>\n",
       "      <td>4</td>\n",
       "      <td>130</td>\n",
       "      <td>322</td>\n",
       "      <td>0</td>\n",
       "      <td>2</td>\n",
       "      <td>109</td>\n",
       "      <td>0</td>\n",
       "      <td>2.4</td>\n",
       "      <td>2</td>\n",
       "      <td>3</td>\n",
       "      <td>3</td>\n",
       "      <td>2</td>\n",
       "    </tr>\n",
       "    <tr>\n",
       "      <th>1</th>\n",
       "      <td>67</td>\n",
       "      <td>0</td>\n",
       "      <td>3</td>\n",
       "      <td>115</td>\n",
       "      <td>564</td>\n",
       "      <td>0</td>\n",
       "      <td>2</td>\n",
       "      <td>160</td>\n",
       "      <td>0</td>\n",
       "      <td>1.6</td>\n",
       "      <td>2</td>\n",
       "      <td>0</td>\n",
       "      <td>7</td>\n",
       "      <td>1</td>\n",
       "    </tr>\n",
       "    <tr>\n",
       "      <th>2</th>\n",
       "      <td>57</td>\n",
       "      <td>1</td>\n",
       "      <td>2</td>\n",
       "      <td>124</td>\n",
       "      <td>261</td>\n",
       "      <td>0</td>\n",
       "      <td>0</td>\n",
       "      <td>141</td>\n",
       "      <td>0</td>\n",
       "      <td>0.3</td>\n",
       "      <td>1</td>\n",
       "      <td>0</td>\n",
       "      <td>7</td>\n",
       "      <td>2</td>\n",
       "    </tr>\n",
       "    <tr>\n",
       "      <th>3</th>\n",
       "      <td>64</td>\n",
       "      <td>1</td>\n",
       "      <td>4</td>\n",
       "      <td>128</td>\n",
       "      <td>263</td>\n",
       "      <td>0</td>\n",
       "      <td>0</td>\n",
       "      <td>105</td>\n",
       "      <td>1</td>\n",
       "      <td>0.2</td>\n",
       "      <td>2</td>\n",
       "      <td>1</td>\n",
       "      <td>7</td>\n",
       "      <td>1</td>\n",
       "    </tr>\n",
       "    <tr>\n",
       "      <th>4</th>\n",
       "      <td>74</td>\n",
       "      <td>0</td>\n",
       "      <td>2</td>\n",
       "      <td>120</td>\n",
       "      <td>269</td>\n",
       "      <td>0</td>\n",
       "      <td>2</td>\n",
       "      <td>121</td>\n",
       "      <td>1</td>\n",
       "      <td>0.2</td>\n",
       "      <td>1</td>\n",
       "      <td>1</td>\n",
       "      <td>3</td>\n",
       "      <td>1</td>\n",
       "    </tr>\n",
       "  </tbody>\n",
       "</table>\n",
       "</div>"
      ],
      "text/plain": [
       "   age  sex   chest pain type  resting blood pressure  serum cholestoral  \\\n",
       "0   70     1                4                     130                322   \n",
       "1   67     0                3                     115                564   \n",
       "2   57     1                2                     124                261   \n",
       "3   64     1                4                     128                263   \n",
       "4   74     0                2                     120                269   \n",
       "\n",
       "   fasting blood sugar  resting electrocardiographic results  max heart rate  \\\n",
       "0                    0                                     2             109   \n",
       "1                    0                                     2             160   \n",
       "2                    0                                     0             141   \n",
       "3                    0                                     0             105   \n",
       "4                    0                                     2             121   \n",
       "\n",
       "   exercise induced angina  oldpeak  ST segment  major vessels  thal  \\\n",
       "0                        0      2.4           2              3     3   \n",
       "1                        0      1.6           2              0     7   \n",
       "2                        0      0.3           1              0     7   \n",
       "3                        1      0.2           2              1     7   \n",
       "4                        1      0.2           1              1     3   \n",
       "\n",
       "   heart disease  \n",
       "0              2  \n",
       "1              1  \n",
       "2              2  \n",
       "3              1  \n",
       "4              1  "
      ]
     },
     "execution_count": 49,
     "metadata": {},
     "output_type": "execute_result"
    }
   ],
   "source": [
    "heart = pd.read_csv('dataset_heart.csv')\n",
    "heart.head()"
   ]
  },
  {
   "cell_type": "code",
   "execution_count": 50,
   "id": "1de47a6a-6cd0-4457-b982-07c3aa292e5f",
   "metadata": {},
   "outputs": [],
   "source": [
    "X = heart.iloc[:, :-1].values"
   ]
  },
  {
   "cell_type": "code",
   "execution_count": 51,
   "id": "aa8bcb12-9ea1-4da5-bd78-54d86e07a788",
   "metadata": {},
   "outputs": [
    {
     "name": "stdout",
     "output_type": "stream",
     "text": [
      "[2 1 2 1 1 1 2 2 2 2 1 1 1 2 1 1 2 2 1 1 2 1 1 1 1 1 1 1 2 1 2 1 1 2 2 2 2\n",
      " 2 1 1 2 1 1 1 2 1 2 2 2 2 2 1 1 1 1 1 2 1 2 2 1 2 1 1 1 2 1 2 1 2 2 1 1 1\n",
      " 1 2 1 1 1 1 2 2 2 1 1 1 1 1 1 2 1 2 2 2 2 2 1 2 1 1 1 2 1 2 2 2 1 2 2 1 2\n",
      " 1 2 1 1 1 2 2 1 2 2 2 2 1 1 1 2 1 1 2 2 2 1 2 1 1 1 2 1 1 2 1 2 1 2 2 2 2\n",
      " 2 1 1 1 1 1 1 1 2 1 1 2 2 2 1 2 1 1 1 1 1 2 1 2 2 1 1 2 2 2 2 1 1 2 2 1 1\n",
      " 1 2 1 1 2 1 2 1 2 1 1 1 1 1 2 1 2 2 2 2 1 1 1 2 1 2 1 1 2 1 1 1 1 1 1 2 2\n",
      " 1 2 1 1 2 2 1 1 2 2 1 2 1 2 1 2 1 1 2 1 1 2 1 2 2 1 2 2 2 1 2 1 1 1 1 2 2\n",
      " 1 1 2 2 1 2 1 1 1 1 2]\n"
     ]
    }
   ],
   "source": [
    "y = heart['heart disease'].values\n",
    "print(y)\n",
    "\n",
    "conditions = [y == 1, y == 2]\n",
    "values = [\"disease 1\", \"disease 2\"]\n",
    "\n",
    "y = np.select(conditions, values, default=y)"
   ]
  },
  {
   "cell_type": "code",
   "execution_count": 52,
   "id": "adb6eb3a-0c85-409f-b805-a6e0451de012",
   "metadata": {},
   "outputs": [],
   "source": [
    "X_train, X_test, y_train, y_test = train_test_split(X, y, test_size=0.2)"
   ]
  },
  {
   "cell_type": "markdown",
   "id": "854f28c6-677e-4640-9955-9b40b2a54074",
   "metadata": {},
   "source": [
    "### Train Three Decision Trees on Different Feature Sets"
   ]
  },
  {
   "cell_type": "code",
   "execution_count": 53,
   "id": "101e2e24-30a9-47bd-aa2f-3263df7ae9aa",
   "metadata": {},
   "outputs": [],
   "source": [
    "X_tree1 = X_train[:, :3]\n",
    "X_tree2 = X_train[:,3:6]\n",
    "X_tree3 = X_train[:,6:9]"
   ]
  },
  {
   "cell_type": "code",
   "execution_count": 54,
   "id": "c03ad668-3302-4982-a880-246e60dcabd2",
   "metadata": {},
   "outputs": [
    {
     "data": {
      "text/html": [
       "<style>#sk-container-id-4 {color: black;}#sk-container-id-4 pre{padding: 0;}#sk-container-id-4 div.sk-toggleable {background-color: white;}#sk-container-id-4 label.sk-toggleable__label {cursor: pointer;display: block;width: 100%;margin-bottom: 0;padding: 0.3em;box-sizing: border-box;text-align: center;}#sk-container-id-4 label.sk-toggleable__label-arrow:before {content: \"▸\";float: left;margin-right: 0.25em;color: #696969;}#sk-container-id-4 label.sk-toggleable__label-arrow:hover:before {color: black;}#sk-container-id-4 div.sk-estimator:hover label.sk-toggleable__label-arrow:before {color: black;}#sk-container-id-4 div.sk-toggleable__content {max-height: 0;max-width: 0;overflow: hidden;text-align: left;background-color: #f0f8ff;}#sk-container-id-4 div.sk-toggleable__content pre {margin: 0.2em;color: black;border-radius: 0.25em;background-color: #f0f8ff;}#sk-container-id-4 input.sk-toggleable__control:checked~div.sk-toggleable__content {max-height: 200px;max-width: 100%;overflow: auto;}#sk-container-id-4 input.sk-toggleable__control:checked~label.sk-toggleable__label-arrow:before {content: \"▾\";}#sk-container-id-4 div.sk-estimator input.sk-toggleable__control:checked~label.sk-toggleable__label {background-color: #d4ebff;}#sk-container-id-4 div.sk-label input.sk-toggleable__control:checked~label.sk-toggleable__label {background-color: #d4ebff;}#sk-container-id-4 input.sk-hidden--visually {border: 0;clip: rect(1px 1px 1px 1px);clip: rect(1px, 1px, 1px, 1px);height: 1px;margin: -1px;overflow: hidden;padding: 0;position: absolute;width: 1px;}#sk-container-id-4 div.sk-estimator {font-family: monospace;background-color: #f0f8ff;border: 1px dotted black;border-radius: 0.25em;box-sizing: border-box;margin-bottom: 0.5em;}#sk-container-id-4 div.sk-estimator:hover {background-color: #d4ebff;}#sk-container-id-4 div.sk-parallel-item::after {content: \"\";width: 100%;border-bottom: 1px solid gray;flex-grow: 1;}#sk-container-id-4 div.sk-label:hover label.sk-toggleable__label {background-color: #d4ebff;}#sk-container-id-4 div.sk-serial::before {content: \"\";position: absolute;border-left: 1px solid gray;box-sizing: border-box;top: 0;bottom: 0;left: 50%;z-index: 0;}#sk-container-id-4 div.sk-serial {display: flex;flex-direction: column;align-items: center;background-color: white;padding-right: 0.2em;padding-left: 0.2em;position: relative;}#sk-container-id-4 div.sk-item {position: relative;z-index: 1;}#sk-container-id-4 div.sk-parallel {display: flex;align-items: stretch;justify-content: center;background-color: white;position: relative;}#sk-container-id-4 div.sk-item::before, #sk-container-id-4 div.sk-parallel-item::before {content: \"\";position: absolute;border-left: 1px solid gray;box-sizing: border-box;top: 0;bottom: 0;left: 50%;z-index: -1;}#sk-container-id-4 div.sk-parallel-item {display: flex;flex-direction: column;z-index: 1;position: relative;background-color: white;}#sk-container-id-4 div.sk-parallel-item:first-child::after {align-self: flex-end;width: 50%;}#sk-container-id-4 div.sk-parallel-item:last-child::after {align-self: flex-start;width: 50%;}#sk-container-id-4 div.sk-parallel-item:only-child::after {width: 0;}#sk-container-id-4 div.sk-dashed-wrapped {border: 1px dashed gray;margin: 0 0.4em 0.5em 0.4em;box-sizing: border-box;padding-bottom: 0.4em;background-color: white;}#sk-container-id-4 div.sk-label label {font-family: monospace;font-weight: bold;display: inline-block;line-height: 1.2em;}#sk-container-id-4 div.sk-label-container {text-align: center;}#sk-container-id-4 div.sk-container {/* jupyter's `normalize.less` sets `[hidden] { display: none; }` but bootstrap.min.css set `[hidden] { display: none !important; }` so we also need the `!important` here to be able to override the default hidden behavior on the sphinx rendered scikit-learn.org. See: https://github.com/scikit-learn/scikit-learn/issues/21755 */display: inline-block !important;position: relative;}#sk-container-id-4 div.sk-text-repr-fallback {display: none;}</style><div id=\"sk-container-id-4\" class=\"sk-top-container\"><div class=\"sk-text-repr-fallback\"><pre>DecisionTreeClassifier()</pre><b>In a Jupyter environment, please rerun this cell to show the HTML representation or trust the notebook. <br />On GitHub, the HTML representation is unable to render, please try loading this page with nbviewer.org.</b></div><div class=\"sk-container\" hidden><div class=\"sk-item\"><div class=\"sk-estimator sk-toggleable\"><input class=\"sk-toggleable__control sk-hidden--visually\" id=\"sk-estimator-id-4\" type=\"checkbox\" checked><label for=\"sk-estimator-id-4\" class=\"sk-toggleable__label sk-toggleable__label-arrow\">DecisionTreeClassifier</label><div class=\"sk-toggleable__content\"><pre>DecisionTreeClassifier()</pre></div></div></div></div></div>"
      ],
      "text/plain": [
       "DecisionTreeClassifier()"
      ]
     },
     "execution_count": 54,
     "metadata": {},
     "output_type": "execute_result"
    }
   ],
   "source": [
    "tree1 = DecisionTreeClassifier()\n",
    "tree2 = DecisionTreeClassifier()\n",
    "tree3 = DecisionTreeClassifier()\n",
    "\n",
    "tree1.fit(X_tree1, y_train)\n",
    "tree2.fit(X_tree2, y_train)\n",
    "tree3.fit(X_tree3, y_train)\n"
   ]
  },
  {
   "cell_type": "markdown",
   "id": "c5b08ede-1aae-4625-9e97-2f5134b331fd",
   "metadata": {},
   "source": [
    " ### Create and Evaluate an Ensemble (Majority Vote)"
   ]
  },
  {
   "cell_type": "code",
   "execution_count": 55,
   "id": "e5ecfe42-7c3d-4486-81f4-3363dca2aef7",
   "metadata": {},
   "outputs": [
    {
     "name": "stdout",
     "output_type": "stream",
     "text": [
      "Ensemble Accuracy: 0.7222\n"
     ]
    }
   ],
   "source": [
    "from sklearn.ensemble import VotingClassifier\n",
    "from sklearn.metrics import accuracy_score\n",
    "\n",
    "\n",
    "ensemble = VotingClassifier(estimators=[('tree1', tree1), ('tree2', tree2), ('tree3', tree3)], voting='hard')\n",
    "\n",
    "# You can train the ensemble on the entire dataset\n",
    "ensemble.fit(X_train, y_train)\n",
    "\n",
    "# You can evaluate the ensemble as mentioned in a previous response\n",
    "ensemble_accuracy = accuracy_score(y_test, ensemble.predict(X_test))\n",
    "print(f\"Ensemble Accuracy: {ensemble_accuracy:.4f}\")\n"
   ]
  },
  {
   "cell_type": "markdown",
   "id": "cd6da85a-ec81-4f4f-b18d-530618619aa9",
   "metadata": {},
   "source": [
    "### Compare with Individual Tree Accuracy"
   ]
  },
  {
   "cell_type": "code",
   "execution_count": 56,
   "id": "002d2671-5727-42fb-9114-30ae9f147d19",
   "metadata": {},
   "outputs": [],
   "source": [
    "X_test_tree1 = X_test[:, :3]\n",
    "X_test_tree2 = X_test[:, 3:6]\n",
    "X_test_tree3 = X_test[:, 6:9]"
   ]
  },
  {
   "cell_type": "code",
   "execution_count": 57,
   "id": "be5aa6d6-e911-4a36-8aa1-c34866318345",
   "metadata": {},
   "outputs": [
    {
     "name": "stdout",
     "output_type": "stream",
     "text": [
      "Tree 1 Accuracy: 0.6111\n",
      "Tree 2 Accuracy: 0.5370\n",
      "Tree 3 Accuracy: 0.6111\n"
     ]
    }
   ],
   "source": [
    "tree1_accuracy = accuracy_score(y_test, tree1.predict(X_test_tree1))\n",
    "print(f\"Tree 1 Accuracy: {tree1_accuracy:.4f}\")\n",
    "\n",
    "tree2_accuracy = accuracy_score(y_test, tree2.predict(X_test_tree2))\n",
    "print(f\"Tree 2 Accuracy: {tree2_accuracy:.4f}\")\n",
    "\n",
    "tree3_accuracy = accuracy_score(y_test, tree3.predict(X_test_tree3))\n",
    "print(f\"Tree 3 Accuracy: {tree3_accuracy:.4f}\")"
   ]
  },
  {
   "cell_type": "markdown",
   "id": "12998daa-f5cf-4a75-aa02-d415ea5ccf2d",
   "metadata": {},
   "source": [
    "This variability suggests that different subsets of features carry different levels of predictive power. Notably, Tree 1 performed the best, indicating its feature group (likely including vital indicators) was more informative.\n",
    "\n",
    "By combining these models in a majority-vote ensemble, we can capture complementary patterns and reduce overfitting. The ensemble serves as a more balanced model, potentially outperforming weaker individual trees and benefiting from the diversity of learned patterns."
   ]
  },
  {
   "cell_type": "code",
   "execution_count": 59,
   "id": "02f8eeb5-b99d-41d9-80fc-844be19ec11e",
   "metadata": {},
   "outputs": [
    {
     "data": {
      "image/png": "[encoded data removed]",
      "text/plain": [
       "<Figure size 1000x600 with 1 Axes>"
      ]
     },
     "metadata": {},
     "output_type": "display_data"
    }
   ],
   "source": [
    "import matplotlib.pyplot as plt\n",
    "\n",
    "model_names = [\n",
    "    \"Decision Tree (max_depth=1)\",\n",
    "    \"Random Forest (max_depth=1)\",\n",
    "    \"Tree 1\",\n",
    "    \"Tree 2\",\n",
    "    \"Tree 3\",\n",
    "    \"Voting Ensemble\"\n",
    "]\n",
    "\n",
    "accuracies = [\n",
    "    0.5851,  # DT\n",
    "    0.6333,  # RF\n",
    "    0.6111,  # Tree 1\n",
    "    0.5370,  # Tree 2\n",
    "    0.6111,  # Tree 3\n",
    "    0.7222   # Voting Ensemble \n",
    "]\n",
    "\n",
    "plt.figure(figsize=(10, 6))\n",
    "bars = plt.bar(model_names, accuracies, color='skyblue')\n",
    "plt.ylim(0.5, 0.75)\n",
    "plt.ylabel('Accuracy')\n",
    "plt.title('Model Accuracy Comparison')\n",
    "plt.xticks(rotation=30, ha='right')\n",
    "plt.grid(axis='y')\n",
    "\n",
    "for bar in bars:\n",
    "    height = bar.get_height()\n",
    "    plt.text(bar.get_x() + bar.get_width()/2., height + 0.005, f'{height:.2f}', ha='center')\n",
    "\n",
    "plt.tight_layout()\n",
    "plt.show()\n"
   ]
  },
  {
   "cell_type": "markdown",
   "id": "07d80b73-cae4-4b51-b910-ac0884a95ea1",
   "metadata": {},
   "source": [
    "Therefore, voting ensemble provides the model with the highest accuracy. "
   ]
  }
 ],
 "metadata": {
  "kernelspec": {
   "display_name": "Python 3 (ipykernel)",
   "language": "python",
   "name": "python3"
  },
  "language_info": {
   "codemirror_mode": {
    "name": "ipython",
    "version": 3
   },
   "file_extension": ".py",
   "mimetype": "text/x-python",
   "name": "python",
   "nbconvert_exporter": "python",
   "pygments_lexer": "ipython3",
   "version": "3.11.5"
  }
 },
 "nbformat": 4,
 "nbformat_minor": 5
}
